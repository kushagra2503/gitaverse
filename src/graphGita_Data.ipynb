{
 "cells": [
  {
   "cell_type": "code",
   "execution_count": null,
   "id": "05d55ef1",
   "metadata": {},
   "outputs": [],
   "source": [
    "pip install openai"
   ]
  },
  {
   "cell_type": "markdown",
   "id": "412b0748",
   "metadata": {},
   "source": [
    "### ipynb file for testing\n",
    "Using venv "
   ]
  },
  {
   "cell_type": "code",
   "execution_count": null,
   "id": "468a462b",
   "metadata": {},
   "outputs": [],
   "source": [
    "import boto3 #SDK for AWS\n",
    "import json \n",
    "import os \n",
    "from botocore.exceptions import ClientError\n",
    "import requests\n",
    "import pandas as pd\n",
    "import re\n",
    "import logging \n",
    "from typing import List, Dict, Any, Tuple\n",
    "from tqdm import tqdm\n",
    "import jsonschema\n",
    "\n",
    "## First let's define the chapter info \n",
    "CHAPTER_INFO = {\n",
    "    \"chapters\" : [\n",
    "        {\"number\": 1, \"name\": \"Arjuna Visada Yoga\", \"total_shlokas\": 47},\n",
    "        {\"number\": 2, \"name\": \"Sankhya Yoga\", \"total_shlokas\": 72},\n",
    "        {\"number\": 3, \"name\": \"Karma Yoga\", \"total_shlokas\": 43},\n",
    "        {\"number\": 4, \"name\": \"Jnana Yoga\", \"total_shlokas\": 42},\n",
    "        {\"number\": 5, \"name\": \"Karma Sanyasa Yoga\", \"total_shlokas\": 29},\n",
    "        {\"number\": 6, \"name\": \"Dhyana Yoga\", \"total_shlokas\": 47},\n",
    "        {\"number\": 7, \"name\": \"Jnana Vijnana Yoga\", \"total_shlokas\": 30},\n",
    "        {\"number\": 8, \"name\": \"Aksara Brahma Yoga\", \"total_shlokas\": 28},\n",
    "        {\"number\": 9, \"name\": \"Raja Vidya Yoga\", \"total_shlokas\": 34},\n",
    "        {\"number\": 10, \"name\": \"Vibhuti Yoga\", \"total_shlokas\": 42},\n",
    "        {\"number\": 11, \"name\": \"Visvarupa Darsana Yoga\", \"total_shlokas\": 55},\n",
    "        {\"number\": 12, \"name\": \"Bhakti Yoga\", \"total_shlokas\": 20},\n",
    "        {\"number\": 13, \"name\": \"Ksetra Ksetrajna Vibhaga Yoga\", \"total_shlokas\": 35},\n",
    "        {\"number\": 14, \"name\": \"Gunatraya Vibhaga Yoga\", \"total_shlokas\": 27},\n",
    "        {\"number\": 15, \"name\": \"Purusottama Yoga\", \"total_shlokas\": 20},\n",
    "        {\"number\": 16, \"name\": \"Daivasura Sampad Vibhaga Yoga\", \"total_shlokas\": 24},\n",
    "        {\"number\": 17, \"name\": \"Sraddhatraya Vibhaga Yoga\", \"total_shlokas\": 28},\n",
    "        {\"number\": 18, \"name\": \"Moksa Sanyasa Yoga\", \"total_shlokas\": 78}\n",
    "    ]\n",
    "}\n",
    "\n",
    "## Defining AWS client configs\n",
    "class AWSClient:\n",
    "    def __init__(self, region_name='eu-west-1'):\n",
    "        self.s3_client = boto3.client('s3', region_name=region_name)\n",
    "        self.textract_client = boto3.client('textract', region_name=region_name)\n",
    "\n",
    "    def list_s3_documents(self, bucket_name, prefix):\n",
    "        try:\n",
    "            response = self.s3_client.list_objects_v2(Bucket=bucket_name, Prefix=prefix)\n",
    "            if 'Contents' in response:\n",
    "                return [obj['Key'] for obj in response['Contents'] \n",
    "                        if obj['Key'].endswith('.json') and not obj['Key'].endswith('/')]\n",
    "            return []\n",
    "        except ClientError as e:\n",
    "            print(f\"Error accessing S3: {e}\")\n",
    "            return []\n",
    "\n",
    "    def get_object(self, bucket_name, file_key):\n",
    "        try:\n",
    "            response = self.s3_client.get_object(Bucket=bucket_name, Key=file_key)\n",
    "            return response['Body'].read().decode('utf-8')\n",
    "        except ClientError as e:\n",
    "            print(f\"Error getting object from S3: {e}\")\n",
    "            return None\n"
   ]
  }
 ],
 "metadata": {
  "kernelspec": {
   "display_name": "Python 3",
   "language": "python",
   "name": "python3"
  },
  "language_info": {
   "name": "python",
   "version": "3.12.0"
  }
 },
 "nbformat": 4,
 "nbformat_minor": 5
}
